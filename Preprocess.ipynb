{
 "cells": [
  {
   "cell_type": "code",
   "execution_count": 1,
   "metadata": {},
   "outputs": [],
   "source": [
    "import pandas as pd\n",
    "import numpy as np\n",
    "import matplotlib.pyplot as plt"
   ]
  },
  {
   "cell_type": "code",
   "execution_count": 2,
   "metadata": {},
   "outputs": [
    {
     "name": "stdout",
     "output_type": "stream",
     "text": [
      "         date                                              tweet\n",
      "0  2020-07-14                                               Cute\n",
      "1  2020-07-14                                                Wow\n",
      "2  2020-07-13  Reusability is essential. A rocket that is sin...\n",
      "3  2020-07-13                                        Wild times!\n",
      "4  2020-07-13  We’re being extra paranoid. Maximizing probabi...\n",
      "********************************\n",
      "\n",
      "         date       open   high        low      close  adj close    volume\n",
      "0  2010-06-29  19.000000  25.00  17.540001  23.889999  23.889999  18766300\n",
      "1  2010-06-30  25.790001  30.42  23.299999  23.830000  23.830000  17187100\n",
      "2  2010-07-01  25.000000  25.92  20.270000  21.959999  21.959999   8218800\n",
      "3  2010-07-02  23.000000  23.10  18.709999  19.200001  19.200001   5139800\n",
      "4  2010-07-06  20.000000  20.00  15.830000  16.110001  16.110001   6866900\n",
      "The shape of tesla_stock df is: (2416, 7)\n",
      "The shape of musk_tweets df is: (9286, 2)\n"
     ]
    }
   ],
   "source": [
    "musk_tweets = pd.read_csv(\"elonmusk.csv\")\n",
    "tesla_stock = pd.read_csv(\"TSLA.csv\")\n",
    "musk_tweets = musk_tweets.rename(str.lower, axis=1)\n",
    "tesla_stock = tesla_stock.rename(str.lower, axis=1)\n",
    "musk_tweets = musk_tweets.loc[:, ['date', 'tweet']]\n",
    "print(musk_tweets.head())\n",
    "print(\"********************************\\n\")\n",
    "print(tesla_stock.head())\n",
    "print(f\"The shape of tesla_stock df is: {tesla_stock.shape}\")\n",
    "print(f\"The shape of musk_tweets df is: {musk_tweets.shape}\")"
   ]
  },
  {
   "cell_type": "code",
   "execution_count": 4,
   "metadata": {},
   "outputs": [
    {
     "data": {
      "text/html": [
       "<div>\n",
       "<style scoped>\n",
       "    .dataframe tbody tr th:only-of-type {\n",
       "        vertical-align: middle;\n",
       "    }\n",
       "\n",
       "    .dataframe tbody tr th {\n",
       "        vertical-align: top;\n",
       "    }\n",
       "\n",
       "    .dataframe thead th {\n",
       "        text-align: right;\n",
       "    }\n",
       "</style>\n",
       "<table border=\"1\" class=\"dataframe\">\n",
       "  <thead>\n",
       "    <tr style=\"text-align: right;\">\n",
       "      <th></th>\n",
       "      <th>date</th>\n",
       "      <th>tweet</th>\n",
       "      <th>open</th>\n",
       "      <th>high</th>\n",
       "      <th>low</th>\n",
       "      <th>close</th>\n",
       "      <th>adj close</th>\n",
       "      <th>volume</th>\n",
       "    </tr>\n",
       "  </thead>\n",
       "  <tbody>\n",
       "    <tr>\n",
       "      <th>0</th>\n",
       "      <td>2020-02-03</td>\n",
       "      <td>Definitely!</td>\n",
       "      <td>673.690002</td>\n",
       "      <td>786.140015</td>\n",
       "      <td>673.52002</td>\n",
       "      <td>780.0</td>\n",
       "      <td>780.0</td>\n",
       "      <td>47065000</td>\n",
       "    </tr>\n",
       "    <tr>\n",
       "      <th>1</th>\n",
       "      <td>2020-02-03</td>\n",
       "      <td>Yes</td>\n",
       "      <td>673.690002</td>\n",
       "      <td>786.140015</td>\n",
       "      <td>673.52002</td>\n",
       "      <td>780.0</td>\n",
       "      <td>780.0</td>\n",
       "      <td>47065000</td>\n",
       "    </tr>\n",
       "    <tr>\n",
       "      <th>2</th>\n",
       "      <td>2020-02-03</td>\n",
       "      <td>🔥🔥🔥</td>\n",
       "      <td>673.690002</td>\n",
       "      <td>786.140015</td>\n",
       "      <td>673.52002</td>\n",
       "      <td>780.0</td>\n",
       "      <td>780.0</td>\n",
       "      <td>47065000</td>\n",
       "    </tr>\n",
       "    <tr>\n",
       "      <th>3</th>\n",
       "      <td>2020-02-03</td>\n",
       "      <td>First, we need to make it super safe &amp; easy to...</td>\n",
       "      <td>673.690002</td>\n",
       "      <td>786.140015</td>\n",
       "      <td>673.52002</td>\n",
       "      <td>780.0</td>\n",
       "      <td>780.0</td>\n",
       "      <td>47065000</td>\n",
       "    </tr>\n",
       "    <tr>\n",
       "      <th>4</th>\n",
       "      <td>2020-02-03</td>\n",
       "      <td>Ok sure 😀 Btw, we recruit great engineers from...</td>\n",
       "      <td>673.690002</td>\n",
       "      <td>786.140015</td>\n",
       "      <td>673.52002</td>\n",
       "      <td>780.0</td>\n",
       "      <td>780.0</td>\n",
       "      <td>47065000</td>\n",
       "    </tr>\n",
       "  </tbody>\n",
       "</table>\n",
       "</div>"
      ],
      "text/plain": [
       "         date                                              tweet        open  \\\n",
       "0  2020-02-03                                        Definitely!  673.690002   \n",
       "1  2020-02-03                                                Yes  673.690002   \n",
       "2  2020-02-03                                                🔥🔥🔥  673.690002   \n",
       "3  2020-02-03  First, we need to make it super safe & easy to...  673.690002   \n",
       "4  2020-02-03  Ok sure 😀 Btw, we recruit great engineers from...  673.690002   \n",
       "\n",
       "         high        low  close  adj close    volume  \n",
       "0  786.140015  673.52002  780.0      780.0  47065000  \n",
       "1  786.140015  673.52002  780.0      780.0  47065000  \n",
       "2  786.140015  673.52002  780.0      780.0  47065000  \n",
       "3  786.140015  673.52002  780.0      780.0  47065000  \n",
       "4  786.140015  673.52002  780.0      780.0  47065000  "
      ]
     },
     "execution_count": 4,
     "metadata": {},
     "output_type": "execute_result"
    }
   ],
   "source": [
    "tesla = pd.merge(musk_tweets, tesla_stock, on = \"date\", how = \"inner\")\n",
    "tesla.head()"
   ]
  },
  {
   "cell_type": "code",
   "execution_count": null,
   "metadata": {},
   "outputs": [],
   "source": []
  }
 ],
 "metadata": {
  "kernelspec": {
   "display_name": "Python 3",
   "language": "python",
   "name": "python3"
  },
  "language_info": {
   "codemirror_mode": {
    "name": "ipython",
    "version": 3
   },
   "file_extension": ".py",
   "mimetype": "text/x-python",
   "name": "python",
   "nbconvert_exporter": "python",
   "pygments_lexer": "ipython3",
   "version": "3.8.5"
  }
 },
 "nbformat": 4,
 "nbformat_minor": 4
}
