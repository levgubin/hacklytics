{
  "nbformat": 4,
  "nbformat_minor": 0,
  "metadata": {
    "kernelspec": {
      "display_name": "Python 3",
      "language": "python",
      "name": "python3"
    },
    "language_info": {
      "codemirror_mode": {
        "name": "ipython",
        "version": 3
      },
      "file_extension": ".py",
      "mimetype": "text/x-python",
      "name": "python",
      "nbconvert_exporter": "python",
      "pygments_lexer": "ipython3",
      "version": "3.7.4"
    },
    "colab": {
      "name": "3. Labeling Data.ipynb",
      "provenance": []
    }
  },
  "cells": [
    {
      "cell_type": "code",
      "metadata": {
        "id": "W2f-4MMwOQfB"
      },
      "source": [
        "import pandas as pd\n",
        "import nltk\n",
        "import numpy as np\n",
        "import datetime"
      ],
      "execution_count": 1,
      "outputs": []
    },
    {
      "cell_type": "code",
      "metadata": {
        "id": "nxT6lkwEOQfH"
      },
      "source": [
        "#Data from Data collection.\n",
        "result = pd.read_csv(\"tesla.csv\", encoding = \"ISO-8859-1\")"
      ],
      "execution_count": 2,
      "outputs": []
    },
    {
      "cell_type": "code",
      "metadata": {
        "colab": {
          "base_uri": "https://localhost:8080/",
          "height": 359
        },
        "id": "3zwgR9abOQfI",
        "outputId": "ad706cdd-7856-4bc4-ec22-4ebaf6139cdc"
      },
      "source": [
        "result.head(10)"
      ],
      "execution_count": 3,
      "outputs": [
        {
          "output_type": "execute_result",
          "data": {
            "text/html": [
              "<div>\n",
              "<style scoped>\n",
              "    .dataframe tbody tr th:only-of-type {\n",
              "        vertical-align: middle;\n",
              "    }\n",
              "\n",
              "    .dataframe tbody tr th {\n",
              "        vertical-align: top;\n",
              "    }\n",
              "\n",
              "    .dataframe thead th {\n",
              "        text-align: right;\n",
              "    }\n",
              "</style>\n",
              "<table border=\"1\" class=\"dataframe\">\n",
              "  <thead>\n",
              "    <tr style=\"text-align: right;\">\n",
              "      <th></th>\n",
              "      <th>Unnamed: 0</th>\n",
              "      <th>date</th>\n",
              "      <th>tweet</th>\n",
              "      <th>open</th>\n",
              "      <th>high</th>\n",
              "      <th>low</th>\n",
              "      <th>close</th>\n",
              "      <th>adj close</th>\n",
              "      <th>volume</th>\n",
              "    </tr>\n",
              "  </thead>\n",
              "  <tbody>\n",
              "    <tr>\n",
              "      <th>0</th>\n",
              "      <td>0</td>\n",
              "      <td>2020-02-03</td>\n",
              "      <td>Definitely!</td>\n",
              "      <td>673.690002</td>\n",
              "      <td>786.140015</td>\n",
              "      <td>673.52002</td>\n",
              "      <td>780.0</td>\n",
              "      <td>780.0</td>\n",
              "      <td>47065000</td>\n",
              "    </tr>\n",
              "    <tr>\n",
              "      <th>1</th>\n",
              "      <td>1</td>\n",
              "      <td>2020-02-03</td>\n",
              "      <td>Yes</td>\n",
              "      <td>673.690002</td>\n",
              "      <td>786.140015</td>\n",
              "      <td>673.52002</td>\n",
              "      <td>780.0</td>\n",
              "      <td>780.0</td>\n",
              "      <td>47065000</td>\n",
              "    </tr>\n",
              "    <tr>\n",
              "      <th>2</th>\n",
              "      <td>2</td>\n",
              "      <td>2020-02-03</td>\n",
              "      <td>ð¥ð¥ð¥</td>\n",
              "      <td>673.690002</td>\n",
              "      <td>786.140015</td>\n",
              "      <td>673.52002</td>\n",
              "      <td>780.0</td>\n",
              "      <td>780.0</td>\n",
              "      <td>47065000</td>\n",
              "    </tr>\n",
              "    <tr>\n",
              "      <th>3</th>\n",
              "      <td>3</td>\n",
              "      <td>2020-02-03</td>\n",
              "      <td>First, we need to make it super safe &amp; easy to...</td>\n",
              "      <td>673.690002</td>\n",
              "      <td>786.140015</td>\n",
              "      <td>673.52002</td>\n",
              "      <td>780.0</td>\n",
              "      <td>780.0</td>\n",
              "      <td>47065000</td>\n",
              "    </tr>\n",
              "    <tr>\n",
              "      <th>4</th>\n",
              "      <td>4</td>\n",
              "      <td>2020-02-03</td>\n",
              "      <td>Ok sure ð Btw, we recruit great engineers f...</td>\n",
              "      <td>673.690002</td>\n",
              "      <td>786.140015</td>\n",
              "      <td>673.52002</td>\n",
              "      <td>780.0</td>\n",
              "      <td>780.0</td>\n",
              "      <td>47065000</td>\n",
              "    </tr>\n",
              "    <tr>\n",
              "      <th>5</th>\n",
              "      <td>5</td>\n",
              "      <td>2020-02-03</td>\n",
              "      <td>Nothing medically dangerous, but 5g is getting...</td>\n",
              "      <td>673.690002</td>\n",
              "      <td>786.140015</td>\n",
              "      <td>673.52002</td>\n",
              "      <td>780.0</td>\n",
              "      <td>780.0</td>\n",
              "      <td>47065000</td>\n",
              "    </tr>\n",
              "    <tr>\n",
              "      <th>6</th>\n",
              "      <td>6</td>\n",
              "      <td>2020-02-03</td>\n",
              "      <td>Intuitively, that should be straightforward to...</td>\n",
              "      <td>673.690002</td>\n",
              "      <td>786.140015</td>\n",
              "      <td>673.52002</td>\n",
              "      <td>780.0</td>\n",
              "      <td>780.0</td>\n",
              "      <td>47065000</td>\n",
              "    </tr>\n",
              "    <tr>\n",
              "      <th>7</th>\n",
              "      <td>7</td>\n",
              "      <td>2020-02-03</td>\n",
              "      <td>True, it has general applications beyond fast,...</td>\n",
              "      <td>673.690002</td>\n",
              "      <td>786.140015</td>\n",
              "      <td>673.52002</td>\n",
              "      <td>780.0</td>\n",
              "      <td>780.0</td>\n",
              "      <td>47065000</td>\n",
              "    </tr>\n",
              "    <tr>\n",
              "      <th>8</th>\n",
              "      <td>8</td>\n",
              "      <td>2020-02-03</td>\n",
              "      <td>It will ultimately be used to make up for enti...</td>\n",
              "      <td>673.690002</td>\n",
              "      <td>786.140015</td>\n",
              "      <td>673.52002</td>\n",
              "      <td>780.0</td>\n",
              "      <td>780.0</td>\n",
              "      <td>47065000</td>\n",
              "    </tr>\n",
              "    <tr>\n",
              "      <th>9</th>\n",
              "      <td>9</td>\n",
              "      <td>2020-02-03</td>\n",
              "      <td>Wait until you see the next version vs what wa...</td>\n",
              "      <td>673.690002</td>\n",
              "      <td>786.140015</td>\n",
              "      <td>673.52002</td>\n",
              "      <td>780.0</td>\n",
              "      <td>780.0</td>\n",
              "      <td>47065000</td>\n",
              "    </tr>\n",
              "  </tbody>\n",
              "</table>\n",
              "</div>"
            ],
            "text/plain": [
              "   Unnamed: 0        date  ... adj close    volume\n",
              "0           0  2020-02-03  ...     780.0  47065000\n",
              "1           1  2020-02-03  ...     780.0  47065000\n",
              "2           2  2020-02-03  ...     780.0  47065000\n",
              "3           3  2020-02-03  ...     780.0  47065000\n",
              "4           4  2020-02-03  ...     780.0  47065000\n",
              "5           5  2020-02-03  ...     780.0  47065000\n",
              "6           6  2020-02-03  ...     780.0  47065000\n",
              "7           7  2020-02-03  ...     780.0  47065000\n",
              "8           8  2020-02-03  ...     780.0  47065000\n",
              "9           9  2020-02-03  ...     780.0  47065000\n",
              "\n",
              "[10 rows x 9 columns]"
            ]
          },
          "metadata": {
            "tags": []
          },
          "execution_count": 3
        }
      ]
    },
    {
      "cell_type": "code",
      "metadata": {
        "colab": {
          "base_uri": "https://localhost:8080/",
          "height": 297
        },
        "id": "4_EHtOHMOQfJ",
        "outputId": "679be8e4-5842-45ad-e558-f5214cb086b0"
      },
      "source": [
        "result.describe()"
      ],
      "execution_count": 4,
      "outputs": [
        {
          "output_type": "execute_result",
          "data": {
            "text/html": [
              "<div>\n",
              "<style scoped>\n",
              "    .dataframe tbody tr th:only-of-type {\n",
              "        vertical-align: middle;\n",
              "    }\n",
              "\n",
              "    .dataframe tbody tr th {\n",
              "        vertical-align: top;\n",
              "    }\n",
              "\n",
              "    .dataframe thead th {\n",
              "        text-align: right;\n",
              "    }\n",
              "</style>\n",
              "<table border=\"1\" class=\"dataframe\">\n",
              "  <thead>\n",
              "    <tr style=\"text-align: right;\">\n",
              "      <th></th>\n",
              "      <th>Unnamed: 0</th>\n",
              "      <th>open</th>\n",
              "      <th>high</th>\n",
              "      <th>low</th>\n",
              "      <th>close</th>\n",
              "      <th>adj close</th>\n",
              "      <th>volume</th>\n",
              "    </tr>\n",
              "  </thead>\n",
              "  <tbody>\n",
              "    <tr>\n",
              "      <th>count</th>\n",
              "      <td>5155.000000</td>\n",
              "      <td>5155.000000</td>\n",
              "      <td>5155.000000</td>\n",
              "      <td>5155.000000</td>\n",
              "      <td>5155.000000</td>\n",
              "      <td>5155.000000</td>\n",
              "      <td>5.155000e+03</td>\n",
              "    </tr>\n",
              "    <tr>\n",
              "      <th>mean</th>\n",
              "      <td>2577.000000</td>\n",
              "      <td>292.407360</td>\n",
              "      <td>297.968262</td>\n",
              "      <td>287.092047</td>\n",
              "      <td>293.081147</td>\n",
              "      <td>293.081147</td>\n",
              "      <td>8.532643e+06</td>\n",
              "    </tr>\n",
              "    <tr>\n",
              "      <th>std</th>\n",
              "      <td>1488.264649</td>\n",
              "      <td>70.952568</td>\n",
              "      <td>74.277770</td>\n",
              "      <td>69.837213</td>\n",
              "      <td>73.306850</td>\n",
              "      <td>73.306850</td>\n",
              "      <td>5.534906e+06</td>\n",
              "    </tr>\n",
              "    <tr>\n",
              "      <th>min</th>\n",
              "      <td>0.000000</td>\n",
              "      <td>150.500000</td>\n",
              "      <td>154.970001</td>\n",
              "      <td>141.740005</td>\n",
              "      <td>143.669998</td>\n",
              "      <td>143.669998</td>\n",
              "      <td>1.422300e+06</td>\n",
              "    </tr>\n",
              "    <tr>\n",
              "      <th>25%</th>\n",
              "      <td>1288.500000</td>\n",
              "      <td>241.320007</td>\n",
              "      <td>245.279999</td>\n",
              "      <td>236.649994</td>\n",
              "      <td>242.130005</td>\n",
              "      <td>242.130005</td>\n",
              "      <td>5.098500e+06</td>\n",
              "    </tr>\n",
              "    <tr>\n",
              "      <th>50%</th>\n",
              "      <td>2577.000000</td>\n",
              "      <td>287.760010</td>\n",
              "      <td>295.000000</td>\n",
              "      <td>281.559998</td>\n",
              "      <td>289.459991</td>\n",
              "      <td>289.459991</td>\n",
              "      <td>7.008300e+06</td>\n",
              "    </tr>\n",
              "    <tr>\n",
              "      <th>75%</th>\n",
              "      <td>3865.500000</td>\n",
              "      <td>330.119995</td>\n",
              "      <td>339.600006</td>\n",
              "      <td>326.414994</td>\n",
              "      <td>332.970001</td>\n",
              "      <td>332.970001</td>\n",
              "      <td>9.945700e+06</td>\n",
              "    </tr>\n",
              "    <tr>\n",
              "      <th>max</th>\n",
              "      <td>5154.000000</td>\n",
              "      <td>673.690002</td>\n",
              "      <td>786.140015</td>\n",
              "      <td>673.520020</td>\n",
              "      <td>780.000000</td>\n",
              "      <td>780.000000</td>\n",
              "      <td>4.706500e+07</td>\n",
              "    </tr>\n",
              "  </tbody>\n",
              "</table>\n",
              "</div>"
            ],
            "text/plain": [
              "        Unnamed: 0         open  ...    adj close        volume\n",
              "count  5155.000000  5155.000000  ...  5155.000000  5.155000e+03\n",
              "mean   2577.000000   292.407360  ...   293.081147  8.532643e+06\n",
              "std    1488.264649    70.952568  ...    73.306850  5.534906e+06\n",
              "min       0.000000   150.500000  ...   143.669998  1.422300e+06\n",
              "25%    1288.500000   241.320007  ...   242.130005  5.098500e+06\n",
              "50%    2577.000000   287.760010  ...   289.459991  7.008300e+06\n",
              "75%    3865.500000   330.119995  ...   332.970001  9.945700e+06\n",
              "max    5154.000000   673.690002  ...   780.000000  4.706500e+07\n",
              "\n",
              "[8 rows x 7 columns]"
            ]
          },
          "metadata": {
            "tags": []
          },
          "execution_count": 4
        }
      ]
    },
    {
      "cell_type": "code",
      "metadata": {
        "id": "XTdZ0W-POQfJ"
      },
      "source": [
        "label_list = []\n",
        "\n",
        "for index, row in result.iterrows():\n",
        "    difference = row['difference']\n",
        "    constant = 0\n",
        "    threshold = 0.02*row['close']+constant\n",
        "    if difference >= threshold:\n",
        "        label = 'buy'\n",
        "    elif difference <= (threshold)*(-1):\n",
        "        label = 'sell'\n",
        "    else:\n",
        "        label = \"hold\"\n",
        "    label_list.append(label)"
      ],
      "execution_count": null,
      "outputs": []
    },
    {
      "cell_type": "code",
      "metadata": {
        "scrolled": false,
        "id": "JPwzxmKTOQfK"
      },
      "source": [
        "result['label'] = label_list"
      ],
      "execution_count": null,
      "outputs": []
    },
    {
      "cell_type": "code",
      "metadata": {
        "id": "wX2g0YkROQfK",
        "outputId": "83d94a30-bc19-4cec-fb5f-c13f5b9a3a63"
      },
      "source": [
        "result.groupby(\"label\").count()"
      ],
      "execution_count": null,
      "outputs": [
        {
          "output_type": "execute_result",
          "data": {
            "text/html": [
              "<div>\n",
              "<style scoped>\n",
              "    .dataframe tbody tr th:only-of-type {\n",
              "        vertical-align: middle;\n",
              "    }\n",
              "\n",
              "    .dataframe tbody tr th {\n",
              "        vertical-align: top;\n",
              "    }\n",
              "\n",
              "    .dataframe thead th {\n",
              "        text-align: right;\n",
              "    }\n",
              "</style>\n",
              "<table border=\"1\" class=\"dataframe\">\n",
              "  <thead>\n",
              "    <tr style=\"text-align: right;\">\n",
              "      <th></th>\n",
              "      <th>Unnamed: 0</th>\n",
              "      <th>url</th>\n",
              "      <th>title</th>\n",
              "      <th>date</th>\n",
              "      <th>summary</th>\n",
              "      <th>close</th>\n",
              "      <th>high</th>\n",
              "      <th>low</th>\n",
              "      <th>open</th>\n",
              "      <th>difference</th>\n",
              "    </tr>\n",
              "    <tr>\n",
              "      <th>label</th>\n",
              "      <th></th>\n",
              "      <th></th>\n",
              "      <th></th>\n",
              "      <th></th>\n",
              "      <th></th>\n",
              "      <th></th>\n",
              "      <th></th>\n",
              "      <th></th>\n",
              "      <th></th>\n",
              "      <th></th>\n",
              "    </tr>\n",
              "  </thead>\n",
              "  <tbody>\n",
              "    <tr>\n",
              "      <td>buy</td>\n",
              "      <td>1076</td>\n",
              "      <td>1076</td>\n",
              "      <td>1076</td>\n",
              "      <td>1076</td>\n",
              "      <td>1076</td>\n",
              "      <td>1076</td>\n",
              "      <td>1076</td>\n",
              "      <td>1076</td>\n",
              "      <td>1076</td>\n",
              "      <td>1076</td>\n",
              "    </tr>\n",
              "    <tr>\n",
              "      <td>hold</td>\n",
              "      <td>7611</td>\n",
              "      <td>7611</td>\n",
              "      <td>7611</td>\n",
              "      <td>7611</td>\n",
              "      <td>7609</td>\n",
              "      <td>7611</td>\n",
              "      <td>7611</td>\n",
              "      <td>7611</td>\n",
              "      <td>7611</td>\n",
              "      <td>7611</td>\n",
              "    </tr>\n",
              "    <tr>\n",
              "      <td>sell</td>\n",
              "      <td>536</td>\n",
              "      <td>536</td>\n",
              "      <td>536</td>\n",
              "      <td>536</td>\n",
              "      <td>536</td>\n",
              "      <td>536</td>\n",
              "      <td>536</td>\n",
              "      <td>536</td>\n",
              "      <td>536</td>\n",
              "      <td>536</td>\n",
              "    </tr>\n",
              "  </tbody>\n",
              "</table>\n",
              "</div>"
            ],
            "text/plain": [
              "       Unnamed: 0   url  title  date  summary  close  high   low  open  \\\n",
              "label                                                                    \n",
              "buy          1076  1076   1076  1076     1076   1076  1076  1076  1076   \n",
              "hold         7611  7611   7611  7611     7609   7611  7611  7611  7611   \n",
              "sell          536   536    536   536      536    536   536   536   536   \n",
              "\n",
              "       difference  \n",
              "label              \n",
              "buy          1076  \n",
              "hold         7611  \n",
              "sell          536  "
            ]
          },
          "metadata": {
            "tags": []
          },
          "execution_count": 7
        }
      ]
    },
    {
      "cell_type": "code",
      "metadata": {
        "id": "vFrPPKWSOQfK",
        "outputId": "7845ee77-4fd3-455c-ce8b-dc2880f6a116"
      },
      "source": [
        "result['label'].hist(bins=100)"
      ],
      "execution_count": null,
      "outputs": [
        {
          "output_type": "execute_result",
          "data": {
            "text/plain": [
              "<matplotlib.axes._subplots.AxesSubplot at 0x14b89082488>"
            ]
          },
          "metadata": {
            "tags": []
          },
          "execution_count": 10
        },
        {
          "output_type": "display_data",
          "data": {
            "image/png": "[encoded data removed]",
            "text/plain": [
              "<Figure size 432x288 with 1 Axes>"
            ]
          },
          "metadata": {
            "tags": [],
            "needs_background": "light"
          }
        }
      ]
    },
    {
      "cell_type": "code",
      "metadata": {
        "id": "EnV7IGP0OQfL"
      },
      "source": [
        "result.to_csv('Apple Stock-labelled.csv')"
      ],
      "execution_count": null,
      "outputs": []
    }
  ]
}