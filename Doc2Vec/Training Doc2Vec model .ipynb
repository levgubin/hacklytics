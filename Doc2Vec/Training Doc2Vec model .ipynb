{
 "cells": [
  {
   "cell_type": "code",
   "execution_count": 1,
   "metadata": {},
   "outputs": [],
   "source": [
    "# Data Manipulation\n",
    "import pandas as pd\n",
    "import numpy as np\n",
    "import json\n",
    "from pathlib import Path\n",
    "from pandas import DataFrame\n",
    "\n",
    "# Natural Language Processing\n",
    "from nltk.corpus import stopwords\n",
    "from nltk.tokenize import TweetTokenizer\n",
    "from nltk.stem import WordNetLemmatizer\n",
    "from gensim.models import Word2Vec\n",
    "from gensim.models.doc2vec import Doc2Vec, TaggedDocument\n",
    "from nltk.tokenize import word_tokenize\n",
    "from pandas.io.json import json_normalize\n",
    "\n",
    "import pickle"
   ]
  },
  {
   "cell_type": "code",
   "execution_count": 2,
   "metadata": {},
   "outputs": [],
   "source": [
    "rootdir = Path('Factiva Articles/adobe')\n",
    "# Return a list of regular files only, not directories\n",
    "file_list = [f for f in rootdir.glob('**/*') if f.is_file()]\n",
    "article_body = []\n",
    "article_title = []\n",
    "for f in file_list: # Takes about 5 minutes\n",
    "    # Read data\n",
    "    data = json.load(open(f,encoding=\"utf8\"))\n",
    "    data = json_normalize(data)\n",
    "    article_title.append(data['title'])\n",
    "    article_body.append(data['article'])"
   ]
  },
  {
   "cell_type": "code",
   "execution_count": 3,
   "metadata": {},
   "outputs": [],
   "source": [
    "rootdir = Path('Factiva Articles/alibaba')\n",
    "# Return a list of regular files only, not directories\n",
    "file_list = [f for f in rootdir.glob('**/*') if f.is_file()]\n",
    "for f in file_list: # Takes about 5 minutes\n",
    "    # Read data\n",
    "    data = json.load(open(f,encoding=\"utf8\"))\n",
    "    data = json_normalize(data)\n",
    "    article_title.append(data['title'])\n",
    "    article_body.append(data['article'])"
   ]
  },
  {
   "cell_type": "code",
   "execution_count": 4,
   "metadata": {},
   "outputs": [],
   "source": [
    "rootdir = Path('Factiva Articles/alphabet')\n",
    "# Return a list of regular files only, not directories\n",
    "file_list = [f for f in rootdir.glob('**/*') if f.is_file()]\n",
    "for f in file_list: # Takes about 5 minutes\n",
    "    # Read data\n",
    "    data = json.load(open(f,encoding=\"utf8\"))\n",
    "    data = json_normalize(data)\n",
    "    article_title.append(data['title'])\n",
    "    article_body.append(data['article'])"
   ]
  },
  {
   "cell_type": "code",
   "execution_count": 5,
   "metadata": {},
   "outputs": [],
   "source": [
    "rootdir = Path('Factiva Articles/apple')\n",
    "# Return a list of regular files only, not directories\n",
    "file_list = [f for f in rootdir.glob('**/*') if f.is_file()]\n",
    "for f in file_list: # Takes about 5 minutes\n",
    "    # Read data\n",
    "    data = json.load(open(f,encoding=\"utf8\"))\n",
    "    data = json_normalize(data)\n",
    "    article_title.append(data['title'])\n",
    "    article_body.append(data['article'])"
   ]
  },
  {
   "cell_type": "code",
   "execution_count": 6,
   "metadata": {},
   "outputs": [],
   "source": [
    "rootdir = Path('Factiva Articles/att')\n",
    "# Return a list of regular files only, not directories\n",
    "file_list = [f for f in rootdir.glob('**/*') if f.is_file()]\n",
    "for f in file_list: # Takes about 5 minutes\n",
    "    # Read data\n",
    "    data = json.load(open(f,encoding=\"utf8\"))\n",
    "    data = json_normalize(data)\n",
    "    article_title.append(data['title'])\n",
    "    article_body.append(data['article'])"
   ]
  },
  {
   "cell_type": "code",
   "execution_count": 7,
   "metadata": {},
   "outputs": [],
   "source": [
    "rootdir = Path('Factiva Articles/cisco')\n",
    "# Return a list of regular files only, not directories\n",
    "file_list = [f for f in rootdir.glob('**/*') if f.is_file()]\n",
    "for f in file_list: # Takes about 5 minutes\n",
    "    # Read data\n",
    "    data = json.load(open(f,encoding=\"utf8\"))\n",
    "    data = json_normalize(data)\n",
    "    article_title.append(data['title'])\n",
    "    article_body.append(data['article'])"
   ]
  },
  {
   "cell_type": "code",
   "execution_count": 8,
   "metadata": {},
   "outputs": [],
   "source": [
    "rootdir = Path('Factiva Articles/dell')\n",
    "# Return a list of regular files only, not directories\n",
    "file_list = [f for f in rootdir.glob('**/*') if f.is_file()]\n",
    "for f in file_list: # Takes about 5 minutes\n",
    "    # Read data\n",
    "    data = json.load(open(f,encoding=\"utf8\"))\n",
    "    data = json_normalize(data)\n",
    "    article_title.append(data['title'])\n",
    "    article_body.append(data['article'])"
   ]
  },
  {
   "cell_type": "code",
   "execution_count": 9,
   "metadata": {},
   "outputs": [],
   "source": [
    "rootdir = Path('Factiva Articles/facebook')\n",
    "# Return a list of regular files only, not directories\n",
    "file_list = [f for f in rootdir.glob('**/*') if f.is_file()]\n",
    "for f in file_list: # Takes about 5 minutes\n",
    "    # Read data\n",
    "    data = json.load(open(f,encoding=\"utf8\"))\n",
    "    data = json_normalize(data)\n",
    "    article_title.append(data['title'])\n",
    "    article_body.append(data['article'])"
   ]
  },
  {
   "cell_type": "code",
   "execution_count": 10,
   "metadata": {},
   "outputs": [],
   "source": [
    "rootdir = Path('Factiva Articles/honhei')\n",
    "# Return a list of regular files only, not directories\n",
    "file_list = [f for f in rootdir.glob('**/*') if f.is_file()]\n",
    "for f in file_list: # Takes about 5 minutes\n",
    "    # Read data\n",
    "    data = json.load(open(f,encoding=\"utf8\"))\n",
    "    data = json_normalize(data)\n",
    "    article_title.append(data['title'])\n",
    "    article_body.append(data['article'])"
   ]
  },
  {
   "cell_type": "code",
   "execution_count": 11,
   "metadata": {},
   "outputs": [],
   "source": [
    "rootdir = Path('Factiva Articles/ibm')\n",
    "# Return a list of regular files only, not directories\n",
    "file_list = [f for f in rootdir.glob('**/*') if f.is_file()]\n",
    "for f in file_list: # Takes about 5 minutes\n",
    "    # Read data\n",
    "    data = json.load(open(f,encoding=\"utf8\"))\n",
    "    data = json_normalize(data)\n",
    "    article_title.append(data['title'])\n",
    "    article_body.append(data['article'])"
   ]
  },
  {
   "cell_type": "code",
   "execution_count": 12,
   "metadata": {},
   "outputs": [],
   "source": [
    "rootdir = Path('Factiva Articles/instagram')\n",
    "# Return a list of regular files only, not directories\n",
    "file_list = [f for f in rootdir.glob('**/*') if f.is_file()]\n",
    "for f in file_list: # Takes about 5 minutes\n",
    "    # Read data\n",
    "    data = json.load(open(f,encoding=\"utf8\"))\n",
    "    data = json_normalize(data)\n",
    "    article_title.append(data['title'])\n",
    "    article_body.append(data['article'])"
   ]
  },
  {
   "cell_type": "code",
   "execution_count": 13,
   "metadata": {},
   "outputs": [],
   "source": [
    "rootdir = Path('Factiva Articles/intel')\n",
    "# Return a list of regular files only, not directories\n",
    "file_list = [f for f in rootdir.glob('**/*') if f.is_file()]\n",
    "for f in file_list: # Takes about 5 minutes\n",
    "    # Read data\n",
    "    data = json.load(open(f,encoding=\"utf8\"))\n",
    "    data = json_normalize(data)\n",
    "    article_title.append(data['title'])\n",
    "    article_body.append(data['article'])"
   ]
  },
  {
   "cell_type": "code",
   "execution_count": 14,
   "metadata": {},
   "outputs": [],
   "source": [
    "rootdir = Path('Factiva Articles/microsoft')\n",
    "# Return a list of regular files only, not directories\n",
    "file_list = [f for f in rootdir.glob('**/*') if f.is_file()]\n",
    "for f in file_list: # Takes about 5 minutes\n",
    "    # Read data\n",
    "    data = json.load(open(f,encoding=\"utf8\"))\n",
    "    data = json_normalize(data)\n",
    "    article_title.append(data['title'])\n",
    "    article_body.append(data['article'])"
   ]
  },
  {
   "cell_type": "code",
   "execution_count": 15,
   "metadata": {},
   "outputs": [],
   "source": [
    "rootdir = Path('Factiva Articles/netflix')\n",
    "# Return a list of regular files only, not directories\n",
    "file_list = [f for f in rootdir.glob('**/*') if f.is_file()]\n",
    "for f in file_list: # Takes about 5 minutes\n",
    "    # Read data\n",
    "    data = json.load(open(f,encoding=\"utf8\"))\n",
    "    data = json_normalize(data)\n",
    "    article_title.append(data['title'])\n",
    "    article_body.append(data['article'])"
   ]
  },
  {
   "cell_type": "code",
   "execution_count": 16,
   "metadata": {},
   "outputs": [],
   "source": [
    "rootdir = Path('Factiva Articles/nvidia')\n",
    "# Return a list of regular files only, not directories\n",
    "file_list = [f for f in rootdir.glob('**/*') if f.is_file()]\n",
    "for f in file_list: # Takes about 5 minutes\n",
    "    # Read data\n",
    "    data = json.load(open(f,encoding=\"utf8\"))\n",
    "    data = json_normalize(data)\n",
    "    article_title.append(data['title'])\n",
    "    article_body.append(data['article'])"
   ]
  },
  {
   "cell_type": "code",
   "execution_count": 17,
   "metadata": {},
   "outputs": [],
   "source": [
    "rootdir = Path('Factiva Articles/oracle')\n",
    "# Return a list of regular files only, not directories\n",
    "file_list = [f for f in rootdir.glob('**/*') if f.is_file()]\n",
    "for f in file_list: # Takes about 5 minutes\n",
    "    # Read data\n",
    "    data = json.load(open(f,encoding=\"utf8\"))\n",
    "    data = json_normalize(data)\n",
    "    article_title.append(data['title'])\n",
    "    article_body.append(data['article'])"
   ]
  },
  {
   "cell_type": "code",
   "execution_count": 18,
   "metadata": {},
   "outputs": [],
   "source": [
    "rootdir = Path('Factiva Articles/paypal')\n",
    "# Return a list of regular files only, not directories\n",
    "file_list = [f for f in rootdir.glob('**/*') if f.is_file()]\n",
    "for f in file_list: # Takes about 5 minutes\n",
    "    # Read data\n",
    "    data = json.load(open(f,encoding=\"utf8\"))\n",
    "    data = json_normalize(data)\n",
    "    article_title.append(data['title'])\n",
    "    article_body.append(data['article'])"
   ]
  },
  {
   "cell_type": "code",
   "execution_count": 19,
   "metadata": {},
   "outputs": [],
   "source": [
    "rootdir = Path('Factiva Articles/samsung')\n",
    "# Return a list of regular files only, not directories\n",
    "file_list = [f for f in rootdir.glob('**/*') if f.is_file()]\n",
    "for f in file_list: # Takes about 5 minutes\n",
    "    # Read data\n",
    "    data = json.load(open(f,encoding=\"utf8\"))\n",
    "    data = json_normalize(data)\n",
    "    article_title.append(data['title'])\n",
    "    article_body.append(data['article'])"
   ]
  },
  {
   "cell_type": "code",
   "execution_count": 20,
   "metadata": {},
   "outputs": [],
   "source": [
    "rootdir = Path('Factiva Articles/tencent')\n",
    "# Return a list of regular files only, not directories\n",
    "file_list = [f for f in rootdir.glob('**/*') if f.is_file()]\n",
    "for f in file_list: # Takes about 5 minutes\n",
    "    # Read data\n",
    "    data = json.load(open(f,encoding=\"utf8\"))\n",
    "    data = json_normalize(data)\n",
    "    article_title.append(data['title'])\n",
    "    article_body.append(data['article'])"
   ]
  },
  {
   "cell_type": "code",
   "execution_count": 21,
   "metadata": {},
   "outputs": [],
   "source": [
    "rootdir = Path('Factiva Articles/tesla')\n",
    "# Return a list of regular files only, not directories\n",
    "file_list = [f for f in rootdir.glob('**/*') if f.is_file()]\n",
    "for f in file_list: # Takes about 5 minutes\n",
    "    # Read data\n",
    "    data = json.load(open(f,encoding=\"utf8\"))\n",
    "    data = json_normalize(data)\n",
    "    article_title.append(data['title'])\n",
    "    article_body.append(data['article'])"
   ]
  },
  {
   "cell_type": "code",
   "execution_count": 22,
   "metadata": {},
   "outputs": [],
   "source": [
    "rootdir = Path('Factiva Articles/twitter')\n",
    "# Return a list of regular files only, not directories\n",
    "file_list = [f for f in rootdir.glob('**/*') if f.is_file()]\n",
    "for f in file_list: # Takes about 5 minutes\n",
    "    # Read data\n",
    "    data = json.load(open(f,encoding=\"utf8\"))\n",
    "    data = json_normalize(data)\n",
    "    article_title.append(data['title'])\n",
    "    article_body.append(data['article'])"
   ]
  },
  {
   "cell_type": "code",
   "execution_count": 23,
   "metadata": {},
   "outputs": [],
   "source": [
    "dumpWordDf = pd.DataFrame({'body': article_body,\n",
    "                       'title': article_title})"
   ]
  },
  {
   "cell_type": "code",
   "execution_count": 24,
   "metadata": {},
   "outputs": [],
   "source": [
    "tknzr = TweetTokenizer(strip_handles=True, reduce_len=True)\n",
    "lemmatizer = WordNetLemmatizer()"
   ]
  },
  {
   "cell_type": "code",
   "execution_count": 25,
   "metadata": {},
   "outputs": [],
   "source": [
    "# After one hour, it processed 39,000 articles out of 55,000.\n",
    "all_words = []\n",
    "for data in dumpWordDf['body']:\n",
    "    # Clean the article by removing stopwords and special characters\n",
    "    tagged_data = [TaggedDocument(words=word_tokenize(_d.lower()), tags=[str(i)]) for i, _d in enumerate(data)]\n",
    "    all_words.append(tagged_data)"
   ]
  },
  {
   "cell_type": "code",
   "execution_count": 26,
   "metadata": {},
   "outputs": [
    {
     "name": "stderr",
     "output_type": "stream",
     "text": [
      "C:\\Users\\mrahe103\\AppData\\Local\\Continuum\\anaconda3\\lib\\site-packages\\gensim\\models\\doc2vec.py:574: UserWarning: The parameter `size` is deprecated, will be removed in 4.0.0, use `vector_size` instead.\n",
      "  warnings.warn(\"The parameter `size` is deprecated, will be removed in 4.0.0, use `vector_size` instead.\")\n"
     ]
    },
    {
     "name": "stdout",
     "output_type": "stream",
     "text": [
      "iteration 0\n",
      "iteration 1\n"
     ]
    },
    {
     "name": "stderr",
     "output_type": "stream",
     "text": [
      "C:\\Users\\mrahe103\\AppData\\Local\\Continuum\\anaconda3\\lib\\site-packages\\ipykernel_launcher.py:17: DeprecationWarning: Call to deprecated `iter` (Attribute will be removed in 4.0.0, use self.epochs instead).\n"
     ]
    },
    {
     "name": "stdout",
     "output_type": "stream",
     "text": [
      "iteration 2\n",
      "iteration 3\n",
      "iteration 4\n",
      "iteration 5\n",
      "iteration 6\n",
      "iteration 7\n",
      "iteration 8\n",
      "iteration 9\n",
      "iteration 10\n",
      "iteration 11\n",
      "iteration 12\n",
      "iteration 13\n",
      "iteration 14\n",
      "iteration 15\n",
      "iteration 16\n",
      "iteration 17\n",
      "iteration 18\n",
      "iteration 19\n",
      "iteration 20\n",
      "iteration 21\n",
      "iteration 22\n",
      "iteration 23\n",
      "iteration 24\n",
      "iteration 25\n",
      "iteration 26\n",
      "iteration 27\n",
      "iteration 28\n",
      "iteration 29\n",
      "iteration 30\n",
      "iteration 31\n",
      "iteration 32\n",
      "iteration 33\n",
      "iteration 34\n",
      "iteration 35\n",
      "iteration 36\n",
      "iteration 37\n",
      "iteration 38\n",
      "iteration 39\n",
      "iteration 40\n",
      "iteration 41\n",
      "iteration 42\n",
      "iteration 43\n",
      "iteration 44\n",
      "iteration 45\n",
      "iteration 46\n",
      "iteration 47\n",
      "iteration 48\n",
      "iteration 49\n",
      "iteration 50\n",
      "iteration 51\n",
      "iteration 52\n",
      "iteration 53\n",
      "iteration 54\n",
      "iteration 55\n",
      "iteration 56\n",
      "iteration 57\n",
      "iteration 58\n",
      "iteration 59\n",
      "iteration 60\n",
      "iteration 61\n",
      "iteration 62\n",
      "iteration 63\n",
      "iteration 64\n",
      "iteration 65\n",
      "iteration 66\n",
      "iteration 67\n",
      "iteration 68\n",
      "iteration 69\n",
      "iteration 70\n",
      "iteration 71\n",
      "iteration 72\n",
      "iteration 73\n",
      "iteration 74\n",
      "iteration 75\n",
      "iteration 76\n",
      "iteration 77\n",
      "iteration 78\n",
      "iteration 79\n",
      "iteration 80\n",
      "iteration 81\n",
      "iteration 82\n",
      "iteration 83\n",
      "iteration 84\n",
      "iteration 85\n",
      "iteration 86\n",
      "iteration 87\n",
      "iteration 88\n",
      "iteration 89\n",
      "iteration 90\n",
      "iteration 91\n",
      "iteration 92\n",
      "iteration 93\n",
      "iteration 94\n",
      "iteration 95\n",
      "iteration 96\n",
      "iteration 97\n",
      "iteration 98\n",
      "iteration 99\n",
      "Model Saved\n"
     ]
    }
   ],
   "source": [
    "max_epochs = 100\n",
    "vec_size = 10\n",
    "alpha = 0.025\n",
    "\n",
    "model = Doc2Vec(size=vec_size,\n",
    "                alpha=alpha, \n",
    "                min_alpha=0.00025,\n",
    "                min_count=1,\n",
    "                dm =1)\n",
    "  \n",
    "model.build_vocab(tagged_data)\n",
    "\n",
    "for epoch in range(max_epochs):\n",
    "    print('iteration {0}'.format(epoch))\n",
    "    model.train(tagged_data,\n",
    "                total_examples=model.corpus_count,\n",
    "                epochs=model.iter)\n",
    "    # decrease the learning rate\n",
    "    model.alpha -= 0.0002\n",
    "    # fix the learning rate, no decay\n",
    "    model.min_alpha = model.alpha\n",
    "\n",
    "model.save(\"d2v10.model\")\n",
    "print(\"Model Saved\")"
   ]
  },
  {
   "cell_type": "code",
   "execution_count": 27,
   "metadata": {},
   "outputs": [
    {
     "name": "stdout",
     "output_type": "stream",
     "text": [
      "V1_infer [-0.00763641 -0.03599752 -0.02585129 -0.00872747  0.03669634 -0.07997998\n",
      "  0.05274574  0.01490005  0.05457767  0.00256981]\n",
      "[('54', 0.9455791711807251), ('49', 0.9232522249221802), ('45', 0.890114963054657), ('23', 0.8350618481636047), ('81', 0.776084303855896), ('52', 0.758210301399231), ('61', 0.7487478256225586), ('68', 0.748506486415863), ('62', 0.747465193271637), ('63', 0.7464736700057983)]\n",
      "[  9.894476   -12.954394    -7.4139447    6.17673      5.8673353\n",
      "  -1.6766546   -2.3157074   -0.99291104  -2.8728595    0.7510568 ]\n"
     ]
    }
   ],
   "source": [
    "from gensim.models.doc2vec import Doc2Vec\n",
    "\n",
    "model= Doc2Vec.load(\"d2v10.model\")\n",
    "#to find the vector of a document which is not in training data\n",
    "test_data = word_tokenize(\"adobe stock increased\".lower())\n",
    "v1 = model.infer_vector(test_data)\n",
    "print(\"V1_infer\", v1)\n",
    "\n",
    "# to find most similar doc using tags\n",
    "similar_doc = model.docvecs.most_similar('1')\n",
    "print(similar_doc)\n",
    "\n",
    "\n",
    "# to find vector of doc in training data using tags or in other words, printing the vector of document at index 1 in training data\n",
    "print(model.docvecs['1'])"
   ]
  },
  {
   "cell_type": "code",
   "execution_count": 28,
   "metadata": {},
   "outputs": [
    {
     "data": {
      "text/html": [
       "<div>\n",
       "<style scoped>\n",
       "    .dataframe tbody tr th:only-of-type {\n",
       "        vertical-align: middle;\n",
       "    }\n",
       "\n",
       "    .dataframe tbody tr th {\n",
       "        vertical-align: top;\n",
       "    }\n",
       "\n",
       "    .dataframe thead th {\n",
       "        text-align: right;\n",
       "    }\n",
       "</style>\n",
       "<table border=\"1\" class=\"dataframe\">\n",
       "  <thead>\n",
       "    <tr style=\"text-align: right;\">\n",
       "      <th></th>\n",
       "      <th>body</th>\n",
       "      <th>title</th>\n",
       "    </tr>\n",
       "  </thead>\n",
       "  <tbody>\n",
       "    <tr>\n",
       "      <td>1011</td>\n",
       "      <td>0     Major business and economic events sched...</td>\n",
       "      <td>0                Business events scheduled for...</td>\n",
       "    </tr>\n",
       "    <tr>\n",
       "      <td>1012</td>\n",
       "      <td>0     Hundreds of accounts were said to be spr...</td>\n",
       "      <td>0     Facebook, Twitter take down fake account...</td>\n",
       "    </tr>\n",
       "    <tr>\n",
       "      <td>1013</td>\n",
       "      <td>0     The video was edited to appear as if Spe...</td>\n",
       "      <td>0     Pelosi Clashes With Facebook and Twitter...</td>\n",
       "    </tr>\n",
       "    <tr>\n",
       "      <td>1014</td>\n",
       "      <td>0     10:13 ET - Twitter says it isn't ready t...</td>\n",
       "      <td>0     Twitter Is Still Working on Its New Topi...</td>\n",
       "    </tr>\n",
       "    <tr>\n",
       "      <td>1015</td>\n",
       "      <td>0     There was no implication that the countr...</td>\n",
       "      <td>0     Twitter: Israel, Iran may have accessed ...</td>\n",
       "    </tr>\n",
       "  </tbody>\n",
       "</table>\n",
       "</div>"
      ],
      "text/plain": [
       "                                                   body  \\\n",
       "1011  0     Major business and economic events sched...   \n",
       "1012  0     Hundreds of accounts were said to be spr...   \n",
       "1013  0     The video was edited to appear as if Spe...   \n",
       "1014  0     10:13 ET - Twitter says it isn't ready t...   \n",
       "1015  0     There was no implication that the countr...   \n",
       "\n",
       "                                                  title  \n",
       "1011  0                Business events scheduled for...  \n",
       "1012  0     Facebook, Twitter take down fake account...  \n",
       "1013  0     Pelosi Clashes With Facebook and Twitter...  \n",
       "1014  0     Twitter Is Still Working on Its New Topi...  \n",
       "1015  0     Twitter: Israel, Iran may have accessed ...  "
      ]
     },
     "execution_count": 28,
     "metadata": {},
     "output_type": "execute_result"
    }
   ],
   "source": [
    "dumpWordDf.tail()"
   ]
  },
  {
   "cell_type": "code",
   "execution_count": 29,
   "metadata": {},
   "outputs": [],
   "source": [
    "from scipy import spatial\n",
    "fisrt_text = 'apple strikes new deal with u.k. chip designer it didelined in 2017'\n",
    "second_text = 'amazon signs huge warehouse deal in the bronx, sources say'\n",
    "\n",
    "vec1 = model.infer_vector(fisrt_text.split())\n",
    "vec2 = model.infer_vector(second_text.split())\n",
    "\n",
    "similairty = spatial.distance.cosine(vec1, vec2)"
   ]
  },
  {
   "cell_type": "code",
   "execution_count": 30,
   "metadata": {},
   "outputs": [
    {
     "name": "stdout",
     "output_type": "stream",
     "text": [
      "0.37695521116256714\n"
     ]
    }
   ],
   "source": [
    "print(similairty)"
   ]
  },
  {
   "cell_type": "code",
   "execution_count": null,
   "metadata": {},
   "outputs": [],
   "source": []
  }
 ],
 "metadata": {
  "kernelspec": {
   "display_name": "Python 3",
   "language": "python",
   "name": "python3"
  },
  "language_info": {
   "codemirror_mode": {
    "name": "ipython",
    "version": 3
   },
   "file_extension": ".py",
   "mimetype": "text/x-python",
   "name": "python",
   "nbconvert_exporter": "python",
   "pygments_lexer": "ipython3",
   "version": "3.7.4"
  }
 },
 "nbformat": 4,
 "nbformat_minor": 2
}
